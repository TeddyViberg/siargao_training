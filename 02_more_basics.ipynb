{
 "cells": [
  {
   "cell_type": "markdown",
   "metadata": {},
   "source": [
    "# More Basics\n",
    "\n",
    "This notebook continues from the basics and introduces more powerful Python concepts. It's a bit compressed so it might be a little difficult. But do your best and use google and/or ask to learn more.\n",
    "\n",
    "\n",
    "## Topics Covered\n",
    "- **Control Flow and data structures**\n",
    "  - While loops\n",
    "  - Swedish Blackjack (Tjugoett) game\n",
    "  - Lists `[]`\n",
    "  - For loops\n",
    "  - Dictionaries `{}`\n",
    "- **Object-Oriented Programming**\n",
    "  - Classes and objects\n",
    "- **Final Challenge**: Grid movement game\n",
    "\n"
   ]
  },
  {
   "cell_type": "markdown",
   "metadata": {},
   "source": [
    "## 1. While Loops\n",
    "\n",
    "A **while loop** repeats code as long as a condition is `True`. It's perfect for infinate repeating loops, user input validation, and any situation where you don't know how many times you need to repeat something.\n",
    "\n",
    "**Basic pattern:**\n",
    "```python\n",
    "while condition:\n",
    "    # code to repeat\n",
    "    # make sure to eventually make condition False!\n",
    "```\n",
    "\n",
    "**Important:** Always ensure your loop has a way to end, or you'll create an infinite loop! *(unless you want that)* If you fuck up a runnign code you can go to the menu and press 0 twice\n"
   ]
  },
  {
   "cell_type": "code",
   "execution_count": null,
   "metadata": {},
   "outputs": [],
   "source": [
    "# Simple while loop example\n",
    "count = 0\n",
    "while count < 5:\n",
    "    print(f\"Count is: {count}\")\n",
    "    count += 1  # \"+= 1\" is the same as \"= count + 1\", it's so common that it has a simplified version like this.\n",
    "\n",
    "print(\"Loop finished!\")\n"
   ]
  },
  {
   "cell_type": "markdown",
   "metadata": {},
   "source": [
    "You can also exit a loop through using `break`, or if you are in a function you can exit the entire function with `return` inspect and try the code bellow: *(if you make an infinate loop here you choose kernel in the top menu and pick \"Restart kernel and Clear outputs of all cells\")*"
   ]
  },
  {
   "cell_type": "code",
   "execution_count": null,
   "metadata": {},
   "outputs": [],
   "source": [
    "# Simple while loop example\n",
    "def stop_the_loop():\n",
    "    while True:\n",
    "        answer = input(\"write STOP if you want to quit: \")\n",
    "        if answer == \"STOP\":\n",
    "            break\n",
    "            \n",
    "    print(\"note that we are still inside the funcition \\n\")\n",
    "    \n",
    "    while True:\n",
    "        answer = input(\"write STOP again if you want to quit this too:\")\n",
    "        if answer == \"STOP\":\n",
    "            return # return can be used even if the function has no output. (so what type would variable=stop_the_loop() give...?)\n",
    "        \n",
    "    print(\"THIS WILL NEVER BE EXECUTED since we are no longer in the function after return\")\n",
    "\n",
    "stop_the_loop()\n",
    "print(\"Loop stopped!\")\n"
   ]
  },
  {
   "cell_type": "markdown",
   "metadata": {},
   "source": [
    "**Practice:** Create a while loop that counts down from 10 to 1, then prints \"Blast off! 🚀\"\n"
   ]
  },
  {
   "cell_type": "code",
   "execution_count": null,
   "metadata": {},
   "outputs": [],
   "source": [
    "# TODO: your code here\n",
    "# count down from 10 to 1, then print \"Blast off! 🚀\"\n"
   ]
  },
  {
   "cell_type": "markdown",
   "metadata": {},
   "source": [
    "### 1.1 Blackjack example\n",
    "\n",
    "Let's have a look at a complete game using while loops! In this simplified Blackjack, the goal is to get as close to 21 as possible without going over.\n",
    "Most of the game is built already, so you have to inspect how it works and complete it.\n",
    "\n",
    "**Rules:**\n",
    "- Cards 2-10 are worth their face value\n",
    "- Jack, Queen, King are worth 10\n",
    "- Ace is worth 11 (or 1 if you'd go over 21)\n",
    "- You can \"hit\" (get another card) or \"stand\" (keep your current total)\n",
    "- If you go over 21, you \"bust\" and lose\n",
    "- Closest to 21 without going over wins!\n"
   ]
  },
  {
   "cell_type": "code",
   "execution_count": null,
   "metadata": {},
   "outputs": [],
   "source": [
    "import random #a library that generates random numbers\n",
    "\n",
    "# function that checks win-conditions and returns a string\n",
    "def determine_winner(dealer_value,player_value):\n",
    "    if (dealer_value > 21) and (player_value > 21):\n",
    "        return \"You both loose, so I guess the dealer wins...\"\n",
    "    elif (dealer_value > 21) and (player_value < 22):\n",
    "        return \"The dealer is bust, You WIN! HURRAH!\"\n",
    "    elif (dealer_value < 22) and (player_value > 21):\n",
    "        return \"You're bust, The dealer wins! =( =( \"\n",
    "    elif dealer_value > player_value:\n",
    "        return \"Dealer is highest, you loose\"\n",
    "    elif player_value > dealer_value:\n",
    "        return \"You are higher, you WIN! HURRAH\"\n",
    "    elif player_value == dealer_value:\n",
    "        return \"You have the same values, the dealer wins :(\"\n",
    "\n",
    "def get_new_card():\n",
    "    \"\"\"Return a random card value (2-11)\"\"\" #  \"\"\" is another way to make comments instead of using # on each row.\n",
    "    card= random.randint(2, 11) \"\"\" this is a \"method\". it means it's a funcion belonging to a library (in this case random).\n",
    "    We'll learn more about it later, for now you can consider it a normal function with strange looks\"\"\"\n",
    "    return card\n",
    "\n",
    "\"\"\" Finnish this function\n",
    "Remember that ace is usually 11, but count as 1 if the sum ends up above 21\"\"\"\n",
    "def calculate_hand_value(old_hand_value, new_card):\n",
    "    # ------------------------------ You're code here -------------------------------------\n",
    "    new_hand_value = old_hand_value + 5  \n",
    "    # -------------------------------------------------------------------------------------\n",
    "    return new_hand_value\n",
    "\n",
    "def play_blackjack():\n",
    "    \"\"\"Main game function\"\"\"\n",
    "    print(\"🎰 Welcome to Blackjack (ish)! 🎰\")\n",
    "    print(\"=\" * 40)\n",
    "\n",
    "    #Once you have stopped you cannot go again!\n",
    "    player_plays = True\n",
    "    dealer_plays = True\n",
    "    \n",
    "    # First cards\n",
    "    player_hand_value = get_new_card()\n",
    "    dealer_hand_value = get_new_card()\n",
    "    print(\"Game starts, you and the dealer get a card each.\")\n",
    "\n",
    "    # The game goes on as long as either the dealer or the player is still hitting, and noone has gone over 22\n",
    "    while (dealer_plays or player_plays) and (player_hand_value<22) and (dealer_hand_value < 22):\n",
    "        print(\"=\" * 40)\n",
    "        \n",
    "        # Player's turn\n",
    "        if player_plays:\n",
    "            print(f\"You have: {player_hand_value}\")\n",
    "            print(f\"Dealer have: {dealer_hand_value}\")\n",
    "            choice = input(\"\\nHit (h) or Stand (s)? \").lower()\n",
    "            if choice == 'h':\n",
    "                new_card = get_new_card()\n",
    "                player_hand_value = calculate_hand_value(player_hand_value,new_card)\n",
    "                print(f\"You got: {new_card} (Total: {player_hand_value})\")\n",
    "            \n",
    "            elif choice == 's':\n",
    "                player_plays = False\n",
    "            else:\n",
    "                print(\"Unaccepted input, game stops...\")\n",
    "                return\n",
    "                \n",
    "        # dealer's turn\n",
    "        if dealer_plays:\n",
    "            # Dealer's turn, basically a very simple decision making algortithm.\n",
    "            if (dealer_hand_value>player_hand_value) and (not player_plays):\n",
    "                dealer_plays = False\n",
    "                print (\"Dealer stops\")\n",
    "            elif (dealer_hand_value < 17) or (dealer_hand_value < player_hand_value):\n",
    "                #the actual play logic is here\n",
    "                new_card = get_new_card()\n",
    "                dealer_hand_value = calculate_hand_value(dealer_hand_value,new_card)\n",
    "                print(f\"Dealer hits, and got: {new_card} (Total: {dealer_hand_value})\")\n",
    "            else:\n",
    "                dealer_plays = False\n",
    "                print (\"Dealer stops\")\n",
    "                \n",
    "            \n",
    "    winning_text = determine_winner(dealer_hand_value,player_hand_value)\n",
    "    print(winning_text)        \n",
    "\n",
    "    \n",
    "# Play the game!\n",
    "play_blackjack()\n",
    "\n",
    "# Ask if you want to continue playing\n",
    "play_again = True\n",
    "while play_again:\n",
    "    play_blackjack()\n",
    "    answer = input(\"\\n play again? y/n\")\n",
    "    if answer != \"y\":\n",
    "        play_again = False\n"
   ]
  },
  {
   "cell_type": "markdown",
   "metadata": {},
   "source": [
    "## 2. Lists `[]`\n",
    "\n",
    "Lists are ordered collections that can hold any type of data. They're incredibly versatile and one of Python's most used data structures.\n",
    "\n",
    "**Key features:**\n",
    "- **Ordered**: Items have a specific position (index)\n",
    "- **Mutable**: You can change items after the lists creation\n",
    "- **Dynamic**: Can add and remove items as needed\n",
    "- **Indexed**: Access items with `list[index]` (starts at 0)\n"
   ]
  },
  {
   "cell_type": "code",
   "execution_count": null,
   "metadata": {},
   "outputs": [],
   "source": [
    "# Creating lists\n",
    "surf_spots = [\"Cloud 9\", \"Quicksilver\", \"Stimpy's\", \"Daku Island\"]\n",
    "wave_heights = [1.2, 2.1, 0.8, 3.4]\n",
    "mixed_list = [\"Siargao\", 42, True, 3.14]\n",
    "\n",
    "print(\"Surf spots:\", surf_spots)\n",
    "print(\"Wave heights:\", wave_heights)\n",
    "print(\"Mixed list:\", mixed_list)\n"
   ]
  },
  {
   "cell_type": "code",
   "execution_count": null,
   "metadata": {},
   "outputs": [],
   "source": [
    "# Note that you have to run the previous code first to create the lists\n",
    "# Accessing list elements\n",
    "print(\"First spot:\", surf_spots[0])  # Index 0 = first item\n",
    "print(\"Last spot:\", surf_spots[-1])  # Negative index = from the end\n",
    "print(\"Middle spots:\", surf_spots[1:3])  # Slicing: start:end (exclusive, meaning the 1 and 3 is not included)\n",
    "\n",
    "# Modifying lists\n",
    "surf_spots[0] = \"Cloud 9 (Advanced)\"  # Change an item\n",
    "surf_spots.append(\"Secret Spot\")      # Add to end\n",
    "surf_spots.insert(1, \"New Spot\")      # Insert at specific position\n",
    "\n",
    "print(\"Updated spots:\", surf_spots)\n",
    "print(\"Length:\", len(surf_spots))\n"
   ]
  },
  {
   "cell_type": "markdown",
   "metadata": {},
   "source": [
    "**Common list methods:**\n",
    "<br>*A method is a function belonging to a class (variable types are classes). We'll learn about them more later. Right now\n",
    "it's enough to know you use it like this. some_list.method()*\n",
    "- `append(item)` - Add to end\n",
    "- `insert(index, item)` - Insert at position\n",
    "- `remove(item)` - Remove first occurrence\n",
    "- `pop()` - Remove and return last item (you can use indexes too)\n",
    "- `sort()` - Sort in place\n",
    "- `reverse()` - Reverse in place\n",
    "- `count(item)` - Count occurrences\n",
    "- `index(item)` - Find position of item\n"
   ]
  },
  {
   "cell_type": "markdown",
   "metadata": {},
   "source": [
    "**Practice:** Create a list of your favorite foods, then:\n",
    "1. Add a new food to the end\n",
    "2. Insert a food at position 1\n",
    "3. Print the length of your list\n",
    "4. Print the first and last items\n"
   ]
  },
  {
   "cell_type": "code",
   "execution_count": null,
   "metadata": {},
   "outputs": [],
   "source": [
    "# TODO: your code here\n",
    "# favorite_foods = [...]\n",
    "# Add, insert, print length, first and last items\n"
   ]
  },
  {
   "cell_type": "markdown",
   "metadata": {},
   "source": [
    "## 3. For Loops\n",
    "\n",
    "For loops iterate over a sequence (like a list) and execute code for each item. They're perfect when you know how many times you want to repeat something.\n",
    "\n",
    "**Basic pattern:**\n",
    "```python\n",
    "for item in sequence:\n",
    "    # do something with item\n",
    "```\n"
   ]
  },
  {
   "cell_type": "code",
   "execution_count": null,
   "metadata": {},
   "outputs": [],
   "source": [
    "# Basic for loop over a list\n",
    "fruits = [\"mango\", \"banana\", \"coconut\", \"papaya?\"]\n",
    "\n",
    "print(\"Fruits on Siargao:\")\n",
    "for fruit in fruits:\n",
    "    print(f\"  - {fruit}\")\n",
    "\n",
    "print(\"\\nWith index:\")\n",
    "for i, fruit in enumerate(fruits):  # enumerate gives both index and value\n",
    "    print(f\"{i+1}. {fruit}\")\n"
   ]
  },
  {
   "cell_type": "code",
   "execution_count": null,
   "metadata": {},
   "outputs": [],
   "source": [
    "# For loop with range() - when you need numbers\n",
    "print(\"Countdown with for loop:\")\n",
    "for i in range(5, 0, -1):  # range(start, stop, step)\n",
    "    print(f\"{i}...\")\n",
    "print(\"Blast off! 🚀\")\n",
    "\n",
    "# For loop with conditional logic\n",
    "temperatures = [28, 30, 25, 32, 27, 29]\n",
    "print(f\"\\nTemperatures: {temperatures}\")\n",
    "\n",
    "hot_days = 0\n",
    "for temp in temperatures:\n",
    "    if temp >= 30:\n",
    "        hot_days += 1\n",
    "        print(f\"  {temp}°C - Hot day! 🌡️\")\n",
    "    else:\n",
    "        print(f\"  {temp}°C - Nice weather\")\n",
    "\n",
    "print(f\"Total hot days: {hot_days}\")\n"
   ]
  },
  {
   "cell_type": "markdown",
   "metadata": {},
   "source": [
    "**Practice:** Create a list of numbers from 1 to 10, then use a for loop to:\n",
    "1. Print each number squared\n",
    "2. Count how many numbers are even\n",
    "3. Print only the odd numbers\n"
   ]
  },
  {
   "cell_type": "code",
   "execution_count": null,
   "metadata": {},
   "outputs": [],
   "source": [
    "# TODO: your code here\n",
    "numbers = list(range(1, 11))  # Creates [1, 2, 3, ..., 10]\n",
    "print( numbers ) \n",
    "# Your for loop code here\n"
   ]
  },
  {
   "cell_type": "markdown",
   "metadata": {},
   "source": [
    "**Practice:** Manually Merge names and Surnames:\n",
    "Use .append to populate a list of full names\n"
   ]
  },
  {
   "cell_type": "code",
   "execution_count": null,
   "metadata": {},
   "outputs": [],
   "source": [
    "# TODO: your code here\n",
    "first_names = [\"Sep\", \"Dom\", \"Ika\", \"Teddy\", \"Tina\"]\n",
    "surnames = [\"Evangelista\", \"Polackski\", \"Ludwik\",\"Viberg\", \"Evangelista\"]\n",
    "full_names = [] #This is an empty list"
   ]
  },
  {
   "cell_type": "markdown",
   "metadata": {},
   "source": [
    "**Practice:** Kill all men. In the list below there is both men and women. Remove all men and print the list. There are many ways to accomplish this, figure out one that you think works well :) Google is fine, as long as you understand the answer. "
   ]
  },
  {
   "cell_type": "code",
   "execution_count": null,
   "metadata": {},
   "outputs": [],
   "source": [
    "people_list = [\"man\",\"woman\",\"woman\",\"woman\",\"woman\",\"Man\",\"Woman\",\"Man\"]\n",
    "\n",
    "#Your code"
   ]
  },
  {
   "cell_type": "markdown",
   "metadata": {},
   "source": [
    "## 4. Dictionaries `{}`\n",
    "\n",
    "Dictionaries store data as **key-value pairs**. Think of them like a phone book - you look up a name (key) to get a number (value).\n",
    "\n",
    "**Key features:**\n",
    "- **Unordered**: No specific order (in Python 3.7+ they maintain insertion order)\n",
    "- **Mutable**: Can add, change, or remove items\n",
    "- **Fast lookup**: Very efficient for finding values by key\n",
    "- **Unique keys**: Each key can only appear once\n",
    "- **Web relevance**: VERY similar to JSON format, which means that in web development it is very common to go between them. \n"
   ]
  },
  {
   "cell_type": "code",
   "execution_count": null,
   "metadata": {},
   "outputs": [],
   "source": [
    "# Creating dictionaries\n",
    "surf_conditions = {\n",
    "    \"Cloud 9\": \"3-4ft, clean\",\n",
    "    \"Quicksilver\": \"2-3ft, choppy\", \n",
    "    \"Stimpy's\": \"4-5ft, offshore\",\n",
    "    \"Daku Island\": \"1-2ft, glassy\"\n",
    "}\n",
    "\n",
    "# Accessing values\n",
    "print(\"Cloud 9 conditions:\", surf_conditions[\"Cloud 9\"]) # simple way\n",
    "print(\"Quicksilver conditions:\", surf_conditions.get(\"Quicksilver\", \"No data\"))  # method .get returns \"No data\" if there's no value for the key.\n",
    "\n",
    "# Adding and modifying\n",
    "surf_conditions[\"Secret Spot\"] = \"5-6ft, perfect\" # New input since no key \"Secret Spot\" exists before\n",
    "surf_conditions[\"Cloud 9\"] = \"4-5ft, perfect\"  # Update existing as \"Cloud 9\" is already a key\n",
    "\n",
    "print(surf_conditions)\n"
   ]
  },
  {
   "cell_type": "code",
   "execution_count": null,
   "metadata": {},
   "outputs": [],
   "source": [
    "# Creating dictionaries\n",
    "surf_conditions = {\n",
    "    \"Cloud 9\": \"3-4ft, clean\",\n",
    "    \"Quicksilver\": \"2-3ft, choppy\", \n",
    "    \"Stimpy's\": \"4-5ft, offshore\",\n",
    "    \"Daku Island\": \"1-2ft, glassy\",\n",
    "    \"Secret Spot\": \"5-6ft, perfect\",\n",
    "    \"Cloud 9\":\"4-5ft, perfect\"\n",
    "}\n",
    "\n",
    "# Dictionary methods\n",
    "print(\"Keys:\", list(surf_conditions.keys()))\n",
    "print(\"Values:\", list(surf_conditions.values()))\n",
    "print(\"Items:\", list(surf_conditions.items()))\n",
    "\n",
    "# Check if key exists\n",
    "if \"Cloud 9\" in surf_conditions:\n",
    "    print(\"Cloud 9 is in our data!\")\n",
    "\n",
    "# Remove items\n",
    "del surf_conditions[\"Secret Spot\"]  # Remove by key\n",
    "removed = surf_conditions.pop(\"Daku Island\", \"Not found\")  # Remove by key and return the key's value\n",
    "print(f\"Removed: {removed}\")\n",
    "\n",
    "print(f\"\\nFinal dictionary: {surf_conditions}\")\n",
    "print(f\"Number of spots: {len(surf_conditions)}\")\n"
   ]
  },
  {
   "cell_type": "markdown",
   "metadata": {},
   "source": [
    "**Practice:** Create a dictionary to store information about yourself:\n",
    "1. Include your name, age, favorite color, and favorite food\n",
    "2. Add a new key-value pair for your hometown\n",
    "3. Print all your information in a nice format\n",
    "4. Check if \"favorite_movie\" exists, and if not, add it\n"
   ]
  },
  {
   "cell_type": "code",
   "execution_count": null,
   "metadata": {},
   "outputs": [],
   "source": [
    "# TODO: your code here\n",
    "# my_info = {\n",
    "#     \"name\": \"...\",\n",
    "#     \"age\": ...,\n",
    "#     ...\n",
    "# }\n",
    "# Add hometown, print info, check/add favorite_movie\n"
   ]
  },
  {
   "cell_type": "markdown",
   "metadata": {},
   "source": [
    "## 5. Classes - Object-Oriented Programming Basics\n",
    "\n",
    "A **class** is like a blueprint for creating objects. It defines what data (attributes) and behaviors (methods) an object should have.\n",
    "It is basically like we are making our own variable types! (like lists, strings etc)\n",
    "\n",
    "Say that we make a Class for users on a webbpage:\n",
    "**Key concepts:**\n",
    "- **Class**: The blueprint/template (in our case: Users)\n",
    "- **Object**: An instance of a class (created from the blueprint, e.g a specific user, it would probably be identified primarily through an ID)\n",
    "- **Attributes**: Data stored in the object (things like, ID, bio, height, etc)\n",
    "- **Methods**: Functions that belong to the object (maybe we would create: Users.update_bio(text), User.block(), etc)\n",
    "\n",
    "A class can manipulate itself. In terms of syntax(format for code) that means we use \"self\" to show that every object we create have it's own link to the data. It looks a bit crazy, but you'll get used to it.  \n"
   ]
  },
  {
   "cell_type": "code",
   "execution_count": null,
   "metadata": {},
   "outputs": [],
   "source": [
    "# Simple class example\n",
    "class Surfboard:\n",
    "    def __init__(self, brand, length, color):\n",
    "        \"\"\"Constructor - this is a special function that runs when creating a new surfboard all classes have one\"\"\"\n",
    "        self.brand = brand\n",
    "        self.length = length\n",
    "        self.color = color\n",
    "        self.dings = 0  # Start with no dings\n",
    "    \n",
    "    def surf(self, waves):\n",
    "        \"\"\"Method to surf some waves\"\"\"\n",
    "        print(f\"Surfing {waves}ft waves on my {self.color} {self.brand}!\")\n",
    "        if waves > 5:\n",
    "            self.dings += 1\n",
    "            print(\"Ouch! Got a ding from those big waves!\")\n",
    "    \n",
    "    def repair(self):\n",
    "        \"\"\"Method to repair the board\"\"\"\n",
    "        if self.dings > 0:\n",
    "            self.dings -= 1\n",
    "            print(\"Board repaired! One less ding.\")\n",
    "        else:\n",
    "            print(\"Board is already in perfect condition!\")\n",
    "    \n",
    "    def info(self):\n",
    "        \"\"\"Method to display board information\"\"\"\n",
    "        return f\"{self.brand} {self.length}ft {self.color} board ({self.dings} dings)\"\n",
    "\n",
    "# Creating objects (instances) of the class\n",
    "my_board = Surfboard(\"Firewire\", 6.0, \"blue\")\n",
    "friend_board = Surfboard(\"Channel Islands\", 5.8, \"red\")\n",
    "\n",
    "print(\"My board:\", my_board.info())\n",
    "print(\"Friend's board:\", friend_board.info())\n",
    "\n",
    "# Using methods\n",
    "my_board.surf(3)\n",
    "my_board.surf(7)  # This will cause a ding\n",
    "print(\"After surfing:\", my_board.info())\n",
    "\n",
    "my_board.repair()\n",
    "print(\"After repair:\", my_board.info())\n"
   ]
  },
  {
   "cell_type": "markdown",
   "metadata": {},
   "source": [
    "**Practice:** Create a `Person` class with:\n",
    "1. Attributes: name, age, favorite_food\n",
    "2. Methods: `introduce()` (prints a greeting), `have_birthday()` (increases age by 1)\n",
    "3. Create two Person objects and test the methods\n"
   ]
  },
  {
   "cell_type": "code",
   "execution_count": null,
   "metadata": {},
   "outputs": [],
   "source": [
    "# TODO: your code here\n",
    "# class Person:\n",
    "#     def __init__(self, name, age, favorite_food):\n",
    "#         ...\n",
    "#     \n",
    "#     def introduce(self):\n",
    "#         ...\n",
    "#     \n",
    "#     def have_birthday(self):\n",
    "#         ...\n",
    "\n",
    "# Create two Person objects and test them\n"
   ]
  },
  {
   "cell_type": "markdown",
   "metadata": {},
   "source": [
    "## 6. Final Challenge - Grid Movement Game!\n",
    "\n",
    "Below is a small game that combines everything we've learned! You move around a marker around a grid that is written using while loops and for loops.\n",
    "Analyse the code. There are some things to observe: \n",
    "We have a class JupyterGridGame that is the entire game: \n",
    "- There we have some attributes like position x and y\n",
    "- a boolean for running it and some ready made widgets for graphics like textboxes and buttons.\n",
    "- Then we have an eventlistener that are triggered whenever the input box gets text written in it and update.\n",
    "- a method for updating the postion attributes\n",
    "- a method to quit the game\n",
    "- a method to generate HTML\n",
    "- a method to add the HTML to the visual object (don't bother much about it)\n",
    "- a method to add the widgets to the rest of the HTML (don't bother much about it)\n",
    "\n",
    "\n",
    "**\"Game\" Rules:**\n",
    "- You start at position (3,3) on a 7x7 grid\n",
    "- Use 'w', 'a', 's', 'd' to move (up, left, down, right)\n",
    "- Press 'quit' to exit\n",
    "- The grid shows your current position with a marker\n",
    "- Restart Kernel and re-run the code if things fuck up :D\n",
    "\n",
    "**Your job**\n",
    "- Change the size of the grid\n",
    "- Make the marker move 2 steps instead of 1 for each button click\n",
    "- Change the symbol of from an X to this smiley: 😎\n",
    "- **Extra challenge (more difficult / if you feel confident):** Add a score system that increases when you catch \"O\" symbols that appear randomly."
   ]
  },
  {
   "cell_type": "code",
   "execution_count": null,
   "metadata": {},
   "outputs": [],
   "source": [
    "from IPython.display import display\n",
    "import ipywidgets as widgets\n",
    "\n",
    "class JupyterGridGame:\n",
    "    def __init__(self, size):\n",
    "        self.size = size\n",
    "        self.player_x = 3\n",
    "        self.player_y = 3\n",
    "        self.running = True\n",
    "\n",
    "        # UI\n",
    "        self.html = widgets.HTML()\n",
    "        self.input_box = widgets.Text(\n",
    "            placeholder=\"Type w/a/s/d\",\n",
    "            description=\"Move:\"\n",
    "        )\n",
    "        self.input_box.continuous_update = True \n",
    "        self.quit_btn = widgets.Button(description=\"Quit\", button_style=\"danger\")\n",
    "\n",
    "        # Events (observe instead of on_submit)\n",
    "        self.input_box.observe(self._on_text_change, names='value')\n",
    "        self.quit_btn.on_click(lambda _: self.quit())\n",
    "\n",
    "        # Initial draw\n",
    "        self._render()\n",
    "\n",
    "    # --- event handler for text changes ---\n",
    "    def _on_text_change(self, change):\n",
    "        if change['type'] == 'change' and change['name'] == 'value':\n",
    "            direction = (change['new'] or \"\").strip().lower()\n",
    "            if direction:\n",
    "                self.move_player(direction)\n",
    "            # clear the box after handling\n",
    "            self.input_box.value = \"\"\n",
    "\n",
    "    # --- movement logic ---\n",
    "    def move_player(self, d):\n",
    "        if not self.running:\n",
    "            return\n",
    "        if d == 'w' and self.player_y > 0: self.player_y -= 1\n",
    "        elif d == 's' and self.player_y < self.size - 1: self.player_y += 1\n",
    "        elif d == 'a' and self.player_x > 0: self.player_x -= 1\n",
    "        elif d == 'd' and self.player_x < self.size - 1: self.player_x += 1\n",
    "        elif d in ('q', 'quit'): self.quit(); return\n",
    "        self._render()\n",
    "\n",
    "    def quit(self):\n",
    "        self.running = False\n",
    "        self._render()\n",
    "\n",
    "    # --- rendering --- don't bother too much about understanding this\n",
    "    def _grid_text(self):\n",
    "        rows = []\n",
    "        for y in range(self.size):\n",
    "            row = []\n",
    "            for x in range(self.size):\n",
    "                row.append(' X' if (x == self.player_x and y == self.player_y) else ' .')\n",
    "            rows.append(' '.join(row))\n",
    "        grid = '\\n'.join(rows)\n",
    "        pos = f\"Position: ({self.player_x}, {self.player_y})\"\n",
    "        info = \"w=up, s=down, a=left, d=right, q=quit\" if self.running else \"Thanks for playing! Restart kennel and rerun the code if you want to play again\"\n",
    "        return f\"<h3>Little Game</h3>\\n<pre>{grid}\\n\\n{pos}\\n{info}</pre>\"\n",
    "\n",
    "    def _render(self):\n",
    "        self.html.value = self._grid_text()\n",
    "\n",
    "    def show(self):\n",
    "        ui = widgets.VBox([self.html, widgets.HBox([self.input_box, self.quit_btn])])\n",
    "        display(ui)\n",
    "\n",
    "# Run it\n",
    "game = JupyterGridGame(size=7)\n",
    "game.show()\n",
    "\n"
   ]
  },
  {
   "cell_type": "markdown",
   "metadata": {},
   "source": [
    "## Good Job, you've completed this lesson!\n",
    "\n",
    "\n"
   ]
  }
 ],
 "metadata": {
  "kernelspec": {
   "display_name": "Python 3 (ipykernel)",
   "language": "python",
   "name": "python3"
  },
  "language_info": {
   "codemirror_mode": {
    "name": "ipython",
    "version": 3
   },
   "file_extension": ".py",
   "mimetype": "text/x-python",
   "name": "python",
   "nbconvert_exporter": "python",
   "pygments_lexer": "ipython3",
   "version": "3.12.3"
  }
 },
 "nbformat": 4,
 "nbformat_minor": 4
}
