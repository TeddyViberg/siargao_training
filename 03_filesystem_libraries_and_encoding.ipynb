{
 "cells": [
  {
   "cell_type": "markdown",
   "id": "64bbe5a2",
   "metadata": {},
   "source": [
    "# Lesson 03 — Terminal, Libraries & text encoding\n",
    "\n",
    "This lesson will have you **building** a tiny Python library to practice how to manage\n",
    "a project seperated into different folders and files. It will then teach you about text encoding and binary, to end with giving you a coding challenge!"
   ]
  },
  {
   "cell_type": "markdown",
   "id": "3db95cd4-0728-4a5c-8971-6a820fbcdd0f",
   "metadata": {},
   "source": [
    "## 0) A bit about python naming conventions...\n",
    "To make the coming segment a little less confusing we will first learn a little more about how python works.\n",
    "in the last lesson you might have noticed the strange function name `__init__`. funciton names is usually just lowercase letters with underscores between words, like : `def example_function(input)`.\n",
    "what __init__ is, is a special functiont (called dunder function for \"double underscore\", or magic methods because they seem like magic) These are functions that other python functionality uses. Suppose you create a python class. Consider these questions:<br>\n",
    "- How does python know how you create a new object of the class. It is full of functions, what to run?\n",
    "- If you wanted to use print(\"your_object\"), what should python put into the output?\n",
    "\n",
    "To solve these kinds of things, you have the special functions. Lets make an example. Try the code below, and remove \"\"\" \"\"\" for each function and then re-run the code (first init, then str, then eq):\n",
    "\n"
   ]
  },
  {
   "cell_type": "code",
   "execution_count": null,
   "id": "21f43db6-2158-404e-922d-9394506b9230",
   "metadata": {},
   "outputs": [],
   "source": [
    "class Ball:\n",
    "    \n",
    "    def __init__(self, colour,size):\n",
    "        self.col = colour\n",
    "        self.radius = size/2\n",
    "        self.diameter = size\n",
    "    \n",
    "\n",
    "    \"\"\"\n",
    "    def __str__(self):\n",
    "        return f\"{str(self.col)} ball, {self.diameter}cm diameter\"\n",
    "    \"\"\"\n",
    "    \n",
    "    \"\"\"\n",
    "    def __eq__(self, other):\n",
    "        return (self.diameter == other.diameter) and (self.col == other.col )\n",
    "    \"\"\"\n",
    "    \n",
    "my_ball = Ball(\"red\",3) # without __init__ python doesn't know how to use the class to create an object\n",
    "my_second_ball = Ball(\"red\",3)\n",
    "print(my_ball) #without __str__ python can only write a place where an object is stored, not anythin about it.\n",
    "print(my_ball == my_second_ball) #without __eq__ python can only check if it is the same object, not if they are similar.\n"
   ]
  },
  {
   "cell_type": "markdown",
   "id": "56469220-bbad-428c-b759-79d89282e837",
   "metadata": {},
   "source": [
    "*note: - What is a class actually in a technical sense? A class is bunch of functions and variables bundled together. Even though the usage for classes are more of a \"template for objects\" and more, there isn't technically a lot more than functions and variables. When we start with packages  you can therefore see a lot of likeness in syntax for using packages(bundles of scripts and functionality) and classes(other bundles of scripts and functionality)*"
   ]
  },
  {
   "cell_type": "markdown",
   "id": "8702c711",
   "metadata": {},
   "source": [
    "## 1) Terminal movements in the file system\n",
    "\n",
    "You did this a bit of this when we set up the workspace, lets practice it a bit more.\n",
    "\n",
    "Two key ideas:\n",
    "- A **filesystem** is a tree of folders and files.\n",
    "- Your process (Jupyter kernel or a terminal) has a **current working directory** (CWD).  \n",
    "- When a path is *relative*, it's interpreted starting from the CWD. *(e.g /subdirectory)*\n",
    "- When a path is *absolute*, it's interpreted from the top point i the file system \"/\" *(e.g \\\\wsl.localhost\\Ubuntu-22.04\\home\\user\\siargao-training\\subdirectory)*\n",
    "<br>(this top *\"\\\"* is called root directory, just like the administrator account is called root user(top of permissions), although they are different things.)\n",
    "\n",
    "Let’s inspect the current working directory using Python.\n"
   ]
  },
  {
   "cell_type": "code",
   "execution_count": null,
   "id": "8cd6a01a",
   "metadata": {},
   "outputs": [],
   "source": [
    "from pathlib import Path\n",
    "\n",
    "cwd = Path.cwd()\n",
    "print(\"Current working directory:\", cwd)\n",
    "print(\"\\nHere are the entries in this folder:\")\n",
    "for p in sorted(cwd.iterdir()):\n",
    "    print(\" •\", (\"[DIR]\" if p.is_dir() else \"[FILE]\"), p.name)\n"
   ]
  },
  {
   "cell_type": "markdown",
   "id": "46d29418",
   "metadata": {},
   "source": [
    "### ... and in the Terminal\n",
    "\n",
    "In a **terminal**, you would run commands like:\n",
    "```bash\n",
    "pwd          # print working directory\n",
    "ls           # list files\n",
    "cd myfolder  # change directory\n",
    "mkdir newfoldername    # make a folder\n",
    "```\n",
    "\n",
    "**Task:**\n",
    "1) Move around a bit in your file system using the terminal. You can go upwards in the file system by using `cd ..`, it even works like this `cd ../som_other_folder` which is equal to `cd ..` + `cd some_other_folder`. You can view the content of your current folder with `ls`, or the content of another folder with `ls ..` or `ls some_folder/some_other_folder` etc, just like you would change into that folder with `cd`. If you start an adress with `/`, then you are putting in an absolute path, and if you start with a `folder_name` or `..` you are putting in a relative path.\n",
    "2) in your training environment, create a new directory(folder) named `binary_text`\n",
    "\n"
   ]
  },
  {
   "cell_type": "markdown",
   "id": "631df667",
   "metadata": {},
   "source": [
    "## 2) Turning files and folders into packages\n",
    "\n",
    "We have created a folder named `binary_text` (what an oddly specific name...) and will turn this folder into a package!\n",
    "\n",
    "Note:\n",
    "> A **module** is a single `.py` file you can import.\n",
    "> A **package** is a folder that contains modules.\n",
    "\n",
    "1) First we will use one of the special names to let python know the folder should be considered a python library. We use this by creating a python file in the folder named __init__.py (one of the special names). The file can be empty (although we might put in some nice-to-haves later)\n",
    "There are many ways to create a new file, like using your file explorer, the file system bar to the left in Jupyter or different ways in the terminal. For example, you can cd into binary_text and run the comand <br>`touch __init__.py`\n",
    "\n",
    "2) Then we should also create a file with some code. lets create one called converter.py: `touch converter.py` *(make sure you're in the directory binary_text)*\n",
    "\n",
    "3) Open the converter.py. You can do it here in jupyter, look for the folder and the file in the file system on the left. You can also open it in your IDE *(Integrated Development Environment - like visual studio, notepad++, etc)* <br>**Paste the following code into the file:**\n"
   ]
  },
  {
   "cell_type": "raw",
   "id": "3c3aceeb-377c-4585-8add-51de9a0c602a",
   "metadata": {},
   "source": [
    "\"\"\"\n",
    "converter.py\n",
    "------------\n",
    "\n",
    "Converting between different data formats or encodings. Input and outputs are always strings. \n",
    "\n",
    "Example usage:\n",
    "    print(text_to_binary(\"Hello\"))\n",
    "    >> '0100100001100101011011000110110001101111'\n",
    "    \n",
    "    print(binary_to_text(\"0100100001100101011011000110110001101111\"))\n",
    "    >> 'Hello'\n",
    "\"\"\"\n",
    "\n",
    "__version__ = \"0.1.0\" \n",
    "__author__ = \"Your Name or Organization\" #Change this to your name\n",
    "__license__ = \"MIT\" # This is a common Open source license where you are allowed to use the code for commercial projects\n",
    "\n",
    "\n",
    "\n",
    "\n",
    "# ----------------------------\n",
    "# CORE FUNCTIONS\n",
    "# ----------------------------\n",
    "\n",
    "def test():\n",
    "    return \"YEY! successfully imported\"\n"
   ]
  },
  {
   "cell_type": "markdown",
   "id": "72e9bc09-9557-466d-98e8-179c9a638031",
   "metadata": {},
   "source": [
    "Let's try it and see if you succeeded: <br>*(note that python will import libraries first time it runs: If you rerun the code without restarting the kernel it will look into its loaded librery and say \"already there\" and therefore not update changes you might have done in the library. So you need to restart the kernel if you have made changes.)*"
   ]
  },
  {
   "cell_type": "code",
   "execution_count": null,
   "id": "cbc0d19f-f913-48d5-a247-2a357a1c339c",
   "metadata": {},
   "outputs": [],
   "source": [
    "from binary_text.converter import test #note that we import like this:  folder.file import function we can make this easier later.\n",
    "from pathlib import Path\n",
    "\n",
    "cwd = Path.cwd()\n",
    "\n",
    "print(f\"remember that Jupyter runs from your project folder: {cwd}, \\n so python will look for the folder in your current directory (and a few other places)\\n\")\n",
    "response = test()\n",
    "print(response)"
   ]
  },
  {
   "cell_type": "markdown",
   "id": "6de742f3",
   "metadata": {},
   "source": [
    "## 3) Coding challenge!\n",
    "Let's practice coding! ...almost, first we have to learn some stuff first. "
   ]
  },
  {
   "cell_type": "markdown",
   "id": "11c1b0cd-46ae-4855-ad4e-ba162d8400f9",
   "metadata": {},
   "source": [
    "### 3.1 the converter.py file - sidetrack learning\n",
    "We will later create two functions: `def text_to_binary(text):` and `def binary_to_text(binary_str):`  \n",
    "one takes a string e.g 'Hello' and returns a string of binary e.g '0100100001100101011011000110110001101111'. The other one does the opposite. \n",
    "You will make it yourself! But first let's learn a little about how text binary works."
   ]
  },
  {
   "cell_type": "markdown",
   "id": "d7894dc9-0954-4f50-bfa6-e7d3b248a846",
   "metadata": {},
   "source": [
    "**How strings are represented in the computer**<br>\n",
    "Binary in mathematical term is just counting, but with a base of 2, instead of 10 (how we usually count). Mathematically it is possible to count with any base.\n",
    "Some manual examples of counting with different bases:<br>*(a=10, b=11)*\n",
    "<br>**10 as base with 4 digits (span 0000-9999, total of 10^4 = 10000 different numbers ):**\n",
    "<br>0000, 0001, 0002, 0003, 0004, 0005, 0006, 0007, 0008, 0009, 0010, 0011, etc\n",
    "\n",
    "**11 as a base with 4 digits (span 0000-aaaa, total of 11^4 = 14641 different numbers):**\n",
    "<br>0000, 0001, 0002, 0003, 0004, 0005, 0006, 0007, 0008, 0009, 000a, 0010, etc \n",
    "\n",
    "**5 as a base with 4 digits (span 0000-4444, total of 5^4 = 625 different numbers):**\n",
    "<br>0000, 0001, 0002, 0003, 0004, 0010, 0011, 0012, 0013, 0014, 0020, 0021, etc\n",
    "\n",
    "**2 as a base with 4 digits (span 0000-1111, total of 2^4 = 16 different numbers):**\n",
    "<br>0000, 0001, 0010, 0011, 0100, 0101, 0110, 0111, 1000, 1001, 1010, 1011, 1100, 1101, 1110, 1111\n",
    "\n",
    "*BTW: this mean you could count to 2^5=32 on one hand if you use your fingers as binary*\n",
    "<br>Just for fun, lets build a python function that can count with different bases:"
   ]
  },
  {
   "cell_type": "code",
   "execution_count": null,
   "id": "d2b99941-5b9e-4a45-9a59-0bcc9b90fff6",
   "metadata": {},
   "outputs": [],
   "source": [
    "digit_anotations = [\"0\",\"1\",\"2\",\"3\",\"4\",\"5\",\"6\",\"7\",\"8\",\"9\",\n",
    "                    \"a\",\"b\",\"c\",\"d\",\"e\",\"f\",\"g\",\"h\",\"i\",\"j\",\n",
    "                    \"k\",\"l\",\"m\",\"n\",\"o\",\"p\",\"q\",\"r\",\"s\",\"t\",\n",
    "                    \"u\",\"v\",\"w\",\"x\",\"y\",\"z\"]\n",
    "    \n",
    "\n",
    "def digits_in_base(n, base=10, width=8):\n",
    "    \"\"\"Return the digits of n in the given base, as a string.\"\"\"\n",
    "    if n == 0:\n",
    "        return \"0\".rjust(width, \"0\")\n",
    "    digits = []\n",
    "    while n > 0:\n",
    "        digits.append(digit_anotations[(n % base)])\n",
    "        n //= base\n",
    "    return \"\".join(digits[::-1]).rjust(width, \"0\")  # reverse for normal order\n",
    "\n",
    "def count_in_base(base=10,max_n=100,min_digits=1):\n",
    "    n = 0\n",
    "    count_string = \"\"\n",
    "    break_line=1\n",
    "    while n < max_n:\n",
    "        count_string = count_string + digits_in_base(n,base,min_digits)+\" \"\n",
    "\n",
    "        # this is just to break lines\n",
    "        if break_line == base*3:\n",
    "            count_string = count_string + str(\"\\n\")\n",
    "            break_line = 0\n",
    "        \n",
    "        n += 1\n",
    "        break_line += 1\n",
    "        \n",
    "    return count_string\n",
    "\n",
    "print(\"Short example with 3 as base:\\n\"+( count_in_base(3, 20, 3) ))\n",
    "\n",
    "print( \"\\nFull example of counting binary with with 8 digits.\\n\"+count_in_base(2, 256, 8) )\n",
    "print(\"Note the final number, this was the entire span!\")\n"
   ]
  },
  {
   "cell_type": "markdown",
   "id": "aeb060b3",
   "metadata": {},
   "source": [
    "##"
   ]
  },
  {
   "cell_type": "markdown",
   "id": "6a5ec8b0-e1fe-4492-8a07-745e99302256",
   "metadata": {},
   "source": [
    "### Okay, so depending on how many digits we have, we get different number of combinations. \n",
    "With 8 digits we get 256 different combinations. Why 8? Different ones were tried over time but: \n",
    "- Its a power of the base 2 (2^3=8) so it is easy to make memory allocations and designs.\n",
    "- 256 was many enough to cover the common letters.\n",
    "<br>So we now map these 256 two-based numbers to our human standard(decimal system) of counting. We can arbitrary decide which byte(8 bits) should represent every letter or symbol we want. **Great!**\n",
    "<br> ...but there are a lot more symbols we use...\n",
    "<br> ...and different languages use different symbols...\n",
    "<br> ...and everyone started creating their own standard...\n",
    "<br> To solve this UTF (unicode) was created. There are two approaches to creating more symbols.<br>\n",
    "- One is to use the most common symbols in a byte, and use some bytes to say \"next 1/2/3 bytes belong together\" to handle less common symbols. That mean you can have different data lengths for different symbols, but you need to use space to tell the computer how to interpret the bytes.\n",
    "- The second one is to just use longer sequences, instead of using 8 bits you can use 16 or 32. Then almost all symbols can have their own number, but instead there will be no symbols taking less than that number of byte (e.g the first number in a 32-bit system is 000000000000000000000000000000001 instead of 00000001 )\n",
    "<br> You can check out the UTF-8 mapping here: https://www.charset.org/utf-8\n"
   ]
  },
  {
   "cell_type": "markdown",
   "id": "f3833a0c-917b-4d4a-856d-419ae54cf74d",
   "metadata": {},
   "source": [
    "### 3.2 the converter.py file - back to business\n",
    "\n",
    "<br>We want to create the functions that convert text to strings representing bits, and vice versa. <br>\n",
    "For this you should create two functions in converter.py:<br> `def text_to_binary(text):` and <br>`def binary_to_text(binary_str):`\n",
    "<br>\n",
    "\n",
    "That means that we need to go from string --> encode it so symbols are mapped to some choosen integer --> format that integer to represent it in binary. I will give you some helpful methods and functions:"
   ]
  },
  {
   "cell_type": "code",
   "execution_count": null,
   "id": "cb9a0779-6069-43b3-858d-444f9eed3e07",
   "metadata": {},
   "outputs": [],
   "source": [
    "text = \"hello\"\n",
    "encoded_text = text.encode(\"utf-8\")\n",
    "\n",
    "print (encoded_text) #note that python makes it easier to read while marking that it is bytes with b''\n",
    "print (type(encoded_text))\n",
    "\n",
    "print(\"the integers: \")\n",
    "for integer in encoded_text:\n",
    "    print (integer)\n",
    "\n",
    "format(108,\"b\") #format with input \"b\" means binary formatting\n",
    "\n"
   ]
  },
  {
   "cell_type": "markdown",
   "id": "37053355-0eaf-4d16-928f-c67e8c0c5cc0",
   "metadata": {},
   "source": [
    "Now it should be reasonably doable to create the `text_to_binary` function yourself! The `binary_to_text` will be more challenging as you don't have the steps layed out for you. But you can understand the concepts now, so it will be a good opportunity to practice finding good functions yourself. (or createing them)\n",
    "\n",
    "**Happy Coding!**"
   ]
  }
 ],
 "metadata": {
  "kernelspec": {
   "display_name": "Python 3 (ipykernel)",
   "language": "python",
   "name": "python3"
  },
  "language_info": {
   "codemirror_mode": {
    "name": "ipython",
    "version": 3
   },
   "file_extension": ".py",
   "mimetype": "text/x-python",
   "name": "python",
   "nbconvert_exporter": "python",
   "pygments_lexer": "ipython3",
   "version": "3.12.3"
  }
 },
 "nbformat": 4,
 "nbformat_minor": 5
}
