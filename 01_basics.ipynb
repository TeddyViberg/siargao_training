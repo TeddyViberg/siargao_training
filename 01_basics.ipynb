{
 "cells": [
  {
   "cell_type": "markdown",
   "id": "2f5b70c1",
   "metadata": {},
   "source": [
    "\n",
    "# Python Basics — Getting Started 🏝️\n",
    "\n",
    "This notebook covers core building blocks of Python you’ll use everywhere.\n",
    "\n",
    "**How to use this notebook:**\n",
    "- Read the short explanations.\n",
    "- Run each code cell (Shift+Enter).\n",
    "- Try the **Practice** prompts.\n",
    "- Finish with the **Challenge**: build a tiny baking helper.\n",
    "\n",
    "---\n",
    "\n",
    "## Topics Covered\n",
    "- **Data Types**\n",
    "  - Variables\n",
    "  - Numericals\n",
    "  - Strings\n",
    "- **Basic structures**\n",
    "  - Conditions\n",
    "  - If statements\n",
    "  - Functions\n",
    "- **Input and Output**\n",
    "- **Challenge**: Make a baking program\n",
    "\n",
    "> Tip: If you break something, it’s okay—errors are how we learn. 🙌\n"
   ]
  },
  {
   "cell_type": "markdown",
   "id": "78ea52d3",
   "metadata": {},
   "source": [
    "\n",
    "## 1. Data Types\n",
    "\n",
    "### 1.1 Variables\n",
    "A **variable** is a name that refers to a value in memory.\n",
    "You create one with `name = value`. Note that it is not a variable in the mathematical sense, but a substitute for a location of something stored in the computer.\n",
    "\n",
    "**Rules of thumb:**\n",
    "- Use descriptive names: `age`, `total_cost`, `user_name`.\n",
    "- Use lowercase_with_underscores for readability. (this is standard for Python variables, different languages follow different practises)\n"
   ]
  },
  {
   "cell_type": "code",
   "execution_count": null,
   "id": "58faac71",
   "metadata": {},
   "outputs": [],
   "source": [
    "\n",
    "# Assign a few variables\n",
    "age = 21\n",
    "is_student = True\n",
    "island = \"Siargao\"\n",
    "is_student = False #now changed from previous value, could be changed to anything, not only Booleans\n",
    "\n",
    "print(age, is_student, island)\n"
   ]
  },
  {
   "cell_type": "markdown",
   "id": "92496402",
   "metadata": {},
   "source": [
    "\n",
    "**Practice:** Create variables for:\n",
    "- your `favorite_color` (string),\n",
    "- `waves_surfed_today` (integer),\n",
    "- `water_temp_c` (float, e.g., 28.7).\n",
    "Then print a sentence combining them.\n",
    "\n"
   ]
  },
  {
   "cell_type": "code",
   "execution_count": null,
   "id": "04c12e76",
   "metadata": {},
   "outputs": [],
   "source": [
    "\n",
    "# TODO: your code here\n",
    "favorite_color = ...\n",
    "waves_surfed_today = ...\n",
    "water_temp_c = ...\n",
    "# print a sentence using these variables\n",
    "\n",
    "print(\"words \",variable,\"more words\",ect...)"
   ]
  },
  {
   "cell_type": "markdown",
   "id": "d95714e2",
   "metadata": {},
   "source": [
    "\n",
    "### 1.2 Numericals (ints & floats)\n",
    "\n",
    "- **int**: whole numbers (`-3, 0, 42`)\n",
    "- **float**: decimal numbers (`3.14, -0.5`)\n",
    "\n",
    "**Common arithmetic operators:**\n",
    "- `+` add, `-` subtract, `*` multiply, `/` divide → float\n",
    "- `//` floor-divide → int\n",
    "- `%` modulo (remainder)\n",
    "- `**` exponent\n"
   ]
  },
  {
   "cell_type": "code",
   "execution_count": null,
   "id": "67473d99",
   "metadata": {},
   "outputs": [],
   "source": [
    "\n",
    "price_per_cookie = 15          # pesos\n",
    "cookies = 7\n",
    "total = price_per_cookie * cookies\n",
    "avg_price = total / cookies\n",
    "remainder = 23 % 5\n",
    "power = 3 ** 2\n",
    "\n",
    "print(\"total:\", total)\n",
    "print(\"average price:\", avg_price)\n",
    "print(\"remainder 23%5:\", remainder)\n",
    "print(\"three squared:\", power)\n"
   ]
  },
  {
   "cell_type": "markdown",
   "id": "21c4f6b2",
   "metadata": {},
   "source": [
    "\n",
    "**Practice:** Given `budget = 500` pesos and `board_rental_per_hour = 120`,  \n",
    "1) How many whole hours can you rent (`//`)?  \n",
    "2) How much money is left (`%`)?\n"
   ]
  },
  {
   "cell_type": "code",
   "execution_count": null,
   "id": "f6d9a9ba",
   "metadata": {},
   "outputs": [],
   "source": [
    "\n",
    "# TODO: your code here\n",
    "budget = 500\n",
    "board_rental_per_hour = 120\n",
    "hours = ...\n",
    "leftover = ...\n",
    "print(hours, leftover)\n"
   ]
  },
  {
   "cell_type": "markdown",
   "id": "79833f0b",
   "metadata": {},
   "source": [
    "\n",
    "### 1.3 Strings\n",
    "\n",
    "Strings hold text, wrapped in quotes: `\"hello\"` or `'hello'`. Remember that this is just a recipie for handeling data. If you fill a string with a number, like 9 or 3.4, it is still handled like a string until it is converted into another format. This is a common hurdle in web-development as different functions will convert/not convert these things depending on circomstances. \n",
    "\n",
    "**Useful operations:**\n",
    "- Merge into one: `\"Hi \" + name`\n",
    "- Length: `len(text)` (number of characters)\n",
    "- Slicing: `text[start:end]` (meaning you pick out a part of the string)\n",
    "- Methods: `text.upper()`, `text.lower()`, `text.strip()`, `text.replace(\"old\",\"new\")`\n",
    "- Web useful: *formated strings* are made by writing f\"your text\" and allows you to smoothly insert values into brackets { }\n"
   ]
  },
  {
   "cell_type": "code",
   "execution_count": null,
   "id": "a6ca50f9",
   "metadata": {},
   "outputs": [],
   "source": [
    "\n",
    "msg = \"  hello, siargao!  \"\n",
    "name = \"Anna\"\n",
    "print(\"original:\", repr(msg))\n",
    "print(\"upper:\", msg.upper())\n",
    "print(\"trimmed:\", msg.strip())\n",
    "print(\"replace:\", msg.replace(\"siargao\", \"world\"))\n",
    "print(\"length:\", len(msg))\n",
    "print(\"slice [3:13]:\", msg[3:13])\n",
    "print(\"formated string:\",f\"Hi {name}, how are you?\")"
   ]
  },
  {
   "cell_type": "markdown",
   "id": "30bf7e7a",
   "metadata": {},
   "source": [
    "\n",
    "**Practice:**  \n",
    "- Make `greet = \"Hi, \" + name`, where `name` is your name.  \n",
    "- Print the greeting in uppercase.\n"
   ]
  },
  {
   "cell_type": "code",
   "execution_count": null,
   "id": "e8f07331",
   "metadata": {},
   "outputs": [],
   "source": [
    "\n",
    "# TODO: your code here\n",
    "name = ...\n",
    "greet = ...\n",
    "print(...)\n"
   ]
  },
  {
   "cell_type": "markdown",
   "id": "d0709485",
   "metadata": {},
   "source": [
    "\n",
    "## 2. Basic Structures\n",
    "\n",
    "### 2.1 conditions\n",
    "Conditions are logical tests. There are comparative conditions and logical conditions. Both return a Boolean value, True or False.\n",
    "\n",
    "#### Common Comparative Operators\n",
    "\n",
    "| Operator | Meaning          | Example  | Result |\n",
    "|:--:|:--|:--|:--:|\n",
    "| `==` | equal to | `5 == 5` | ✅ True |\n",
    "| `!=` | not equal to | `5 != 3` | ✅ True |\n",
    "| `>` | greater than | `7 > 2` | ✅ True |\n",
    "| `<` | less than | `4 < 2` | ❌ False |\n",
    "| `>=` | greater or equal | `3 >= 3` | ✅ True |\n",
    "| `<=` | less or equal | `2 <= 5` | ✅ True |\n",
    "\n",
    "---\n",
    "\n",
    "#### Common Logical Operators\n",
    "\n",
    "| Operator | Meaning | Example | Result |\n",
    "|:--:|:--|:--|:--:|\n",
    "| `and` | both must be True | `(A > 0 and B > 0)` | ✅ True only if **both** are True |\n",
    "| `or` | at least one True | `(A == 0 or B == 0)` | ✅ True if **either** is True |\n",
    "| `not` | reverses True/False | `not A == 0` | ✅ True if A **isn’t** 0 |\n",
    "\n",
    "\n"
   ]
  },
  {
   "cell_type": "code",
   "execution_count": null,
   "id": "f188ff5e-f37d-423b-a2c4-196ea2e4aa46",
   "metadata": {},
   "outputs": [],
   "source": [
    "# Example\n",
    "temp_c = 28\n",
    "\n",
    "print(\"Test conditions:\")\n",
    "print(temp_c > 30)\n",
    "print(temp_c >= 25)"
   ]
  },
  {
   "cell_type": "markdown",
   "id": "a7ed3ff5-6292-4d36-9fdb-a3d4e08fd05b",
   "metadata": {},
   "source": [
    "### 2.2 If statements\n",
    "Use `if/elif/else` to make decisions.\n",
    "\n",
    "Pattern:\n",
    "```python\n",
    "if condition:\n",
    "    # do something\n",
    "elif other_condition:\n",
    "    # do something else\n",
    "elif third_condition:\n",
    "    # do something else\n",
    "else:\n",
    "    # fallback\n",
    "```\n",
    "Note that `elif` conditions will only be tested if previous statements were not triggered. <br>\n",
    "<br>Remember that conditions are boolean algorithms that by themselves would return True or False that also means that you can say ´if True:´ and it will always execute *(which is actually useful in while-loops, which we'll learn about later)*"
   ]
  },
  {
   "cell_type": "code",
   "execution_count": null,
   "id": "d1061563",
   "metadata": {},
   "outputs": [],
   "source": [
    "\n",
    "wave_height_m = 1.2\n",
    "if wave_height_m >= 1.5:\n",
    "    print(\"Big day! Advanced surfers only.\")\n",
    "elif wave_height_m >= 0.8:\n",
    "    print(\"Fun conditions!\")\n",
    "else:\n",
    "    print(\"Small and friendly. Great for beginners.\")\n"
   ]
  },
  {
   "cell_type": "markdown",
   "id": "34d9b8e9",
   "metadata": {},
   "source": [
    "\n",
    "**Practice:**\n",
    "\n",
    "Given `temp_c`, print:\n",
    "- `\"Hot\"` if `temp_c >= 30`\n",
    "- `\"Nice\"` if `24 <= temp_c < 30`\n",
    "- `\"Cool\"` otherwise\n"
   ]
  },
  {
   "cell_type": "code",
   "execution_count": null,
   "id": "a32cca60",
   "metadata": {},
   "outputs": [],
   "source": [
    "\n",
    "# TODO: your code here\n",
    "temp_c = 28.5\n",
    "# print one of: Hot / Nice / Cool\n"
   ]
  },
  {
   "cell_type": "markdown",
   "id": "62beeb56",
   "metadata": {},
   "source": [
    "\n",
    "### 2.3 Functions\n",
    "A **function** bundles a piece of code you can reuse. It's like developing your own programming language. Define some name with `def` and return a value with `return`. \n"
   ]
  },
  {
   "cell_type": "code",
   "execution_count": null,
   "id": "cd687efc",
   "metadata": {},
   "outputs": [],
   "source": [
    "\n",
    "def total_cost(price, qty, tax_rate=0.0):\n",
    "    # Return total cost with optional tax rate. tax_rate like 0.12 for 12%\n",
    "    subtotal = price * qty\n",
    "    tax = subtotal * tax_rate\n",
    "    return subtotal + tax\n",
    "\n",
    "print(total_cost(15, 7))\n",
    "print(total_cost(15, 7, tax_rate=0.12))\n"
   ]
  },
  {
   "cell_type": "markdown",
   "id": "cbdd1c5c",
   "metadata": {},
   "source": [
    "\n",
    "**Practice:** Write a function `fahrenheit(c)` that converts Celsius to Fahrenheit using  \n",
    "`F = C * 9/5 + 32`. Test it with `25`. Also write a function that converts Fahrenheit to Celsius"
   ]
  },
  {
   "cell_type": "code",
   "execution_count": null,
   "id": "4ccff2ff",
   "metadata": {},
   "outputs": [],
   "source": [
    "\n",
    "# TODO: your code here\n",
    "def fahrenheit(c):\n",
    "    ...\n",
    "\n",
    "\n",
    "print(fahrenheit(25))\n",
    "print(celcius(fahrenheit(25))) # should return the inputed value...\n"
   ]
  },
  {
   "cell_type": "markdown",
   "id": "dd6bdf3a",
   "metadata": {},
   "source": [
    "\n",
    "## 3. Input and Output\n",
    "Lets add some options just to make it more fun in this environment. \n",
    "\n",
    "- **Input** <br> Use `answer=input(\"your prompt you want the user to get\")` (always returns a string — convert if you need numbers)\n",
    "\n",
    "- **Output** <br> With `print(...)` like we've done so far. This is also commonly used during development. <br>Often like this so you can easily turn it of: <br>\n",
    "`debug_mode = True` <br>\n",
    "`if debug_mode:`<br>\n",
    "`    print(\"some variable im curious about: \",variable)`<br>\n",
    "\n",
    "<br>\n",
    "Lets also import a library to use display() and HTML() for formating here in Jupyter and remember you can use *f-strings* for making elegant strings\n"
   ]
  },
  {
   "cell_type": "code",
   "execution_count": null,
   "id": "8a5f4725",
   "metadata": {},
   "outputs": [],
   "source": [
    "from IPython.display import HTML, display\n",
    "\n",
    "# Example: simple interactive snippet\n",
    "user = input(\"What's your name? \")\n",
    "qty_str = input(\"How many cookies? \")\n",
    "qty = int(qty_str)//2\n",
    "\n",
    "display(HTML(f\"<h1>Hi {user}!</h1> <p>That is too many, you can get max half. So {qty} cookies for you!</p>\"))\n"
   ]
  },
  {
   "cell_type": "markdown",
   "id": "592cd5aa",
   "metadata": {},
   "source": [
    "\n",
    "**Practice:** Ask the user for two numbers, add them, and print the sum **formatted** with an f-string. Finnish the code snippet:\n"
   ]
  },
  {
   "cell_type": "code",
   "execution_count": null,
   "id": "1453e814",
   "metadata": {},
   "outputs": [],
   "source": [
    "\n",
    "# TODO: your code here\n",
    "\n",
    "# a = int(input(\"First number: \"))\n",
    "# b = \n",
    "# print(f\"...\")\n"
   ]
  },
  {
   "cell_type": "markdown",
   "id": "c31a79c8",
   "metadata": {},
   "source": [
    "\n",
    "## 4. Challenge — Make a Baking Program\n",
    "\n",
    "Now let's put things to the test... \n",
    "\n",
    "**Goal:** Build a program that scales a cookie recipes based on how many portions you want\n",
    "\n",
    "\n",
    "**Requirements:**\n",
    "1. Ask the user what recipie they want to use (maybe give options or other solution)\n",
    "2. Ask the user how many portions they want \n",
    "3. Compute and print the scaled ingredient amounts (round sensibly)\n",
    "4. If they want 0 portions, warn the user.\n",
    "5. Wrap the logic inside different functions for different recepie e.g `mango_float(portions)`\n",
    "\n"
   ]
  },
  {
   "cell_type": "code",
   "execution_count": null,
   "id": "51fd074f-2af8-492d-99dd-eb46287399c9",
   "metadata": {},
   "outputs": [],
   "source": [
    "from IPython.display import HTML, display\n",
    "\n",
    "def cookies(portions):\n",
    "    ...\n",
    "    return recipie\n",
    "\n",
    "def mango_float(portions):\n",
    "    ...\n",
    "    \n",
    "\n",
    "\n",
    "def main():\n",
    "    ...\n",
    "    return recipie\n",
    "\n",
    "print(main())"
   ]
  },
  {
   "cell_type": "markdown",
   "id": "8e93f5ae",
   "metadata": {},
   "source": [
    "\n",
    "---\n",
    "\n",
    "**Good Job!!**\n",
    "## What's next?\n",
    "We still have some more basic concepts before making it a bit more interesting. So that's next\n",
    "\n",
    "\n"
   ]
  }
 ],
 "metadata": {
  "kernelspec": {
   "display_name": "Python 3 (ipykernel)",
   "language": "python",
   "name": "python3"
  },
  "language_info": {
   "codemirror_mode": {
    "name": "ipython",
    "version": 3
   },
   "file_extension": ".py",
   "mimetype": "text/x-python",
   "name": "python",
   "nbconvert_exporter": "python",
   "pygments_lexer": "ipython3",
   "version": "3.12.3"
  }
 },
 "nbformat": 4,
 "nbformat_minor": 5
}
