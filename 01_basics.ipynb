{
 "cells": [
  {
   "cell_type": "markdown",
   "metadata": {},
   "source": [
    "# Python Basics - Getting Started\n",
    "\n",
    "This lesson covers some of the fundamentals of Python programming. The first building blocks so to speak\n",
    "\n",
    "## What's in the lesson:\n",
    "- Variables and Data Types\n",
    "- Strings and formated strings\n",
    "- Numbers (\"numericals\" if you're fancy)\n",
    "- Simple Input and Output\n",
    "- If-statements\n",
    "- Functions\n",
    "- **Cooking recipie challenge**\n"
   ]
  },
  {
   "cell_type": "markdown",
   "metadata": {},
   "source": [
    "## 1. Variables and Data Types\n",
    "\n",
    "A data type is a rulebook for how a piece of data is handled by the computer. There is usually a lot of overlap between languages here. In some cases because the way the type is operated is programmed on in a low level language and in some cases because they are universally useful. Let's learn the basic ones. \n",
    "A variable is a placeholder for some data. It keeps track of where to find something in your computer. You could say it's a reference to \"shelf 4A\" in a warehouse, whenever you use the variable python runs and gets whatever is on that shelf. <br> You create a variable by using **\"=\"**, the left side value becomes the variable. `example_variable = 1337`<br>\n",
    "In Python, you don't need to declare variable types explicitly. Python automatically determines the type based on the value assigned.\n"
   ]
  },
  {
   "cell_type": "markdown",
   "metadata": {},
   "source": [
    "# Python Basics - Getting Started\n",
    "\n",
    "This notebook covers the fundamental concepts of Python programming.\n",
    "\n",
    "## Topics Covered:\n",
    "- Variables and Data Types\n",
    "- Basic Operations\n",
    "- Input and Output\n",
    "- Comments and Documentation\n"
   ]
  },
  {
   "cell_type": "markdown",
   "metadata": {},
   "source": [
    "## 1. Variables and Data Types\n",
    "\n",
    "In Python, you don't need to declare variable types explicitly. Python automatically determines the type based on the value assigned.\n"
   ]
  },
  {
   "cell_type": "code",
   "execution_count": null,
   "metadata": {},
   "outputs": [],
   "source": [
    "# String variables\n",
    "name = \"Maria\"\n",
    "island = 'Siargao'\n",
    "print(f\"Hello, I'm {name} from {island}\")\n",
    "print(type(name))\n"
   ]
  },
  {
   "cell_type": "code",
   "execution_count": null,
   "metadata": {},
   "outputs": [],
   "source": [
    "# Numeric variables\n",
    "age = 25\n",
    "height = 5.6\n",
    "is_student = True\n",
    "\n",
    "print(f\"Age: {age} (type: {type(age)})\")\n",
    "print(f\"Height: {height} (type: {type(height)})\")\n",
    "print(f\"Is student: {is_student} (type: {type(is_student)})\")\n"
   ]
  },
  {
   "cell_type": "markdown",
   "metadata": {},
   "source": [
    "## 2. Basic Operations\n",
    "\n",
    "Python supports all standard mathematical operations.\n"
   ]
  },
  {
   "cell_type": "code",
   "execution_count": null,
   "metadata": {},
   "outputs": [],
   "source": [
    "# Arithmetic operations\n",
    "a = 10\n",
    "b = 3\n",
    "\n",
    "print(f\"Addition: {a} + {b} = {a + b}\")\n",
    "print(f\"Subtraction: {a} - {b} = {a - b}\")\n",
    "print(f\"Multiplication: {a} * {b} = {a * b}\")\n",
    "print(f\"Division: {a} / {b} = {a / b}\")\n",
    "print(f\"Floor Division: {a} // {b} = {a // b}\")\n",
    "print(f\"Modulus: {a} % {b} = {a % b}\")\n",
    "print(f\"Exponentiation: {a} ** {b} = {a ** b}\")\n"
   ]
  },
  {
   "cell_type": "markdown",
   "metadata": {},
   "source": [
    "## 3. Input and Output\n",
    "\n",
    "Learn how to get input from users and display output.\n"
   ]
  },
  {
   "cell_type": "code",
   "execution_count": null,
   "metadata": {},
   "outputs": [],
   "source": [
    "# Getting user input\n",
    "user_name = input(\"What's your name? \")\n",
    "user_age = int(input(\"How old are you? \"))\n",
    "\n",
    "print(f\"Nice to meet you, {user_name}!\")\n",
    "print(f\"You are {user_age} years old.\")\n",
    "print(f\"In 10 years, you'll be {user_age + 10} years old.\")\n"
   ]
  },
  {
   "cell_type": "markdown",
   "metadata": {},
   "source": [
    "## 4. Practice Exercises\n",
    "\n",
    "Try these exercises to practice what you've learned:\n"
   ]
  },
  {
   "cell_type": "code",
   "execution_count": null,
   "metadata": {},
   "outputs": [],
   "source": [
    "# Exercise 1: Simple Calculator\n",
    "print(\"Simple Calculator\")\n",
    "print(\"===============\")\n",
    "\n",
    "num1 = float(input(\"Enter first number: \"))\n",
    "operation = input(\"Enter operation (+, -, *, /): \")\n",
    "num2 = float(input(\"Enter second number: \"))\n",
    "\n",
    "if operation == '+':\n",
    "    result = num1 + num2\n",
    "elif operation == '-':\n",
    "    result = num1 - num2\n",
    "elif operation == '*':\n",
    "    result = num1 * num2\n",
    "elif operation == '/':\n",
    "    if num2 != 0:\n",
    "        result = num1 / num2\n",
    "    else:\n",
    "        result = \"Error: Division by zero\"\n",
    "else:\n",
    "    result = \"Error: Invalid operation\"\n",
    "\n",
    "print(f\"Result: {result}\")\n"
   ]
  }
 ],
 "metadata": {
  "kernelspec": {
   "display_name": "Python 3 (ipykernel)",
   "language": "python",
   "name": "python3"
  },
  "language_info": {
   "codemirror_mode": {
    "name": "ipython",
    "version": 3
   },
   "file_extension": ".py",
   "mimetype": "text/x-python",
   "name": "python",
   "nbconvert_exporter": "python",
   "pygments_lexer": "ipython3",
   "version": "3.12.3"
  }
 },
 "nbformat": 4,
 "nbformat_minor": 4
}
