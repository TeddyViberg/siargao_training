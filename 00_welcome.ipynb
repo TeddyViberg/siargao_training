{
 "cells": [
  {
   "cell_type": "markdown",
   "metadata": {},
   "source": [
    "# Welcome!\n",
    "\n",
    "Good job getting things set up and\n",
    "welcome to the Siargao basic python programming training, hosted by Teddy!\n",
    "\n",
    "The goal with this training is to teach you the following things:\n",
    "- **General Knowledge:** You should have a better understanding of computers and programming after you finnished this. \n",
    "  Giving you more context when learning new things in the future. It should hopefully also make you a generally more knowledgable person.\n",
    "- **Basic skills:** You should have practiced basic programming skills and understand basic operators, loops, data types, functions, classes etc\n",
    "- **Website focus:** This training will work towards creating web projects and understanding related concepts. Things like computational sciences, data optimization, AI etc will be kept to a minimum. ( a little sad... =/ )  \n",
    "- **Learn how to learn:** I'll try to find a good balance between guidance and fostering an attitude of self-teaching. We'll see how it goes, talk to me about adjustments needed. ( I ain't no actual teacher )\n",
    "\n",
    "Let's get Started!\n"
   ]
  }
 ],
 "metadata": {
  "kernelspec": {
   "display_name": "Python 3 (ipykernel)",
   "language": "python",
   "name": "python3"
  },
  "language_info": {
   "codemirror_mode": {
    "name": "ipython",
    "version": 3
   },
   "file_extension": ".py",
   "mimetype": "text/x-python",
   "name": "python",
   "nbconvert_exporter": "python",
   "pygments_lexer": "ipython3",
   "version": "3.12.3"
  }
 },
 "nbformat": 4,
 "nbformat_minor": 4
}
