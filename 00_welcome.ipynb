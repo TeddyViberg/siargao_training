{
 "cells": [
  {
   "cell_type": "markdown",
   "id": "92a5c1b4-4a07-4f1a-b890-7d8a0d391044",
   "metadata": {},
   "source": [
    "# Welcome!\n",
    "\n",
    "Good job getting things set up and\n",
    "welcome to the Siargao basic python programming training, hosted by Teddy!\n",
    "\n",
    "The goal with this training is to teach you the following things:\n",
    "- **General Knowledge:** You should have a better understanding of computers and programming after you finnished this.\n",
    "  Giving you more context when learning new things in the future.\n",
    "- **Basic skills:** You should have practiced basic programming skills and understand basic operators, loops, data types, functions, classes etc\n",
    "- **Website focus:** This training will work towards creating web projects and understanding related concepts. Things like computational sciences, data optimization, AI etc will be kept to a minimum. ( a little sad... =/ )  \n",
    "- **Learn how to learn:** I'll try to find a good balance between guidance and fostering an attitude of self-teaching. We'll see how it goes, talk to me about adjustments needed. ( I ain't no actual teacher )\n",
    "\n",
    "Let's get Started!"
   ]
  },
  {
   "cell_type": "markdown",
   "id": "ee8b0ff7-d34d-40f3-8758-7b1238f3d770",
   "metadata": {},
   "source": [
    "## Where are we, what is this? - Jupyter\n",
    "If you look at your web browsers URL (where you write webpages you want to visit) you should see something like \"localhost:8888\". That means that you have technically created a local server for yourself already! Localhost is a special name reserved for your computer to create a local server typically used when developing and testing. \"8888\" (or possibly some other number) is the port that is used for comunication. You'll learn more about it later. It is reserved for local comunication so you don't have to worry about security on your computer while hosting it.\n",
    "<br><br>Finish the challenges in order. They should explain what to do and are available to the left in your window. They are numbered 00_name.ipynb, 01_othername.ipynb, etc...<br><br>\n",
    "The webpage you're in is a ready made program called Jupyter that setup the local server host and is very useful to learn code. It also works as an \"IDE\", which means you can write and run code through it. It will be the \"home\" of the course since it's easy to follow, but we'll eventually move out of it for more applied projects. Let's try it out:"
   ]
  },
  {
   "cell_type": "markdown",
   "id": "bf8a1301-62e3-4c4d-bb30-6e91831d054d",
   "metadata": {},
   "source": [
    "#### 1. First script\n",
    "There is a meaningless typo beneath. Can you fix it pls? <br>\n",
    "Then select the code-cell underneath and run the script by pressing the run-button up in the menu. It looks like a play button. (Shift+Enter also works)"
   ]
  },
  {
   "cell_type": "code",
   "execution_count": null,
   "id": "287cdc04-b3de-4dda-ae43-5937208e01fb",
   "metadata": {},
   "outputs": [],
   "source": [
    "print(\"Hello Wörldd!\")"
   ]
  },
  {
   "cell_type": "markdown",
   "id": "ec493621-73d8-4a19-b2c7-9b28a5541949",
   "metadata": {},
   "source": [
    "## What is actually a computer and a programming language on different levels?\n",
    "\n",
    "*(I'm sorry for this much text, but we should start with thinking about some basic concepts. Hopefully it will be more code-less text later.)* <br><br>\n",
    "\n",
    "Let's throw away the notion that computing is abstract or even magic. Although you won't learn everything about how they work they are very much part of our physical world and it can be worthwile to remember that when you are learning more. **Everything** in a computer is physically stored somewhere in patterns of electronical charges(ones) and non-charges(zeroes). It's called *binary*. <br>\n",
    "Thanks to analytical philosophy, we also have a system to apply math to logic through logical operators like *AND*, *OR*, *XNOR*, *etc* to create strict sentences like \"If A is True AND B is True, then C is True\".<br> Or you can write it like you would in the mathematical and philosofical world: $$(A \\land B) \\rightarrow C$$ \n",
    "<br>This is called Boolean algebra after the analytical Philosopher George Boole. Thanks to some smart engineering we have ways of combining these things. We consider 1 as \"True\" and 0 as \"False\", then we can recreate three of the logical operators with physical gates: *AND*, *OR*, *NOT* are available to us in binary. We can do something similar in python (feel free to play around with the values):"
   ]
  },
  {
   "cell_type": "code",
   "execution_count": null,
   "id": "3644ff39-6733-4a67-8850-d3e6f1c028d3",
   "metadata": {
    "scrolled": true
   },
   "outputs": [],
   "source": [
    "x = 1 & 0\n",
    "print(\"Simulation of a logical AND gate, Integers 1 and 0:\")\n",
    "print(x)\n",
    "y = (1 & 1)\n",
    "print(\"Simulation of a logical AND gate, 1 and 1:\")\n",
    "print(x)\n",
    "print(\"We can use built in Booleans True and False as well\")\n",
    "print(\"Simulation of a logical NOT gate, 1 and 0:\")\n",
    "print(not False)\n",
    "print(\"We can even mix Booleans with Integers\")\n",
    "x = True or 0\n",
    "print(\"Simulation of a logical OR gate, True and 0:\")\n",
    "print(x)\n",
    "y = (False or 5)\n",
    "print(\"Simulation of a logical OR gate, False and 5:\") # all non-zero values are considered \"True\" in programming\n",
    "print(x)"
   ]
  },
  {
   "cell_type": "markdown",
   "id": "78dc393a-742f-4711-8bb1-f3806f365d22",
   "metadata": {},
   "source": [
    "Using theese three operations we can also create more complicated logical operations. For example XOR *(\"only if A or B, but not both\")*"
   ]
  },
  {
   "cell_type": "code",
   "execution_count": null,
   "id": "4b8803c6-4201-4ef6-b1c5-1232b1952324",
   "metadata": {},
   "outputs": [],
   "source": [
    "A = True\n",
    "B = 0\n",
    "\n",
    "# XOR using only and, or, not\n",
    "XOR_variable_1 = XOR = (A or B) and not (A and B)\n",
    "print(XOR_variable_1)\n",
    "# XOR using a more easy to read way in python:\n",
    "XOR_variable_2 = (A ^ B)\n",
    "print(XOR_variable_2)"
   ]
  },
  {
   "cell_type": "markdown",
   "id": "d5e6a1f1-9d58-49b4-b747-ca13db09aebd",
   "metadata": {},
   "source": [
    "Note that they do the same thing, but you end up with sometimes getting a Boolean answer and sometimes getting an Integer. In addition to pure logic, how the programmers have developed the language affects the outcome. <br> Making life easier with this type of simplifications of more complex operations is what creates higher level programming languages. This generally also means more computations per thing you want to do as the \"recipies\" are more generalistic, doing things that are not strictly needed for your use. \n",
    "You can roughly categorise languages into the following levels:\n",
    "\n",
    "- **Machine code**<br>\n",
    "Programming made completely in Binary, sending snippets of electrical charges through the three logical gates. This is the foundation the rest is built on.\n",
    "- **Low level language / Assembly language**<br>\n",
    "First level of humanly \"readable\" language, where you still move around charges between memory places, but way easier. It looks like this:<br>`MOV EAX, 10 ;`*Move the value 10 into the EAX register*<br>`ADD EAX, EBX ;`*Add the value in EBX to EAX, storing the result in EAX*<br>\n",
    "Still pretty cumbersome to do something productive with and mostly for people with autism. Roler Coaster Tycoon was famously programmed completely in Assembly, which is why it could run on the shitty computers of the time even though it's very advanced.\n",
    "- **Medium level language**<br>\n",
    "C and C++, used for coding hardware and other things that needs to run fast and efficiently. It adds functionality like object oriented programming, and is also used as a base for the higher level languages. \n",
    "- **High level laguage**<br>\n",
    "Here we find python, php, SQL, Javascript, Ruby etc. Featuring great functionality like not completely crashing your computer when you do something wrong and giving you useful error messages. Over time these have taken over more and more jobs from medium level languages as they have become more efficient and reliable while still having the benefits of being faster and easier to develop with. \n"
   ]
  },
  {
   "cell_type": "markdown",
   "id": "de40e5eb-ffb3-4210-ada6-693f7780f301",
   "metadata": {},
   "source": [
    "### What's your point, Teddy? *(especially for web development)*\n",
    "It is that we are actually not learning a purely logical system. We are learning a set of recipies of actions (algorithms) that boil down to moving things around in the computer, throwing them through the three logical gates, keeping track of where everything is, and doing all this in a reasonably efficient way. This is maybe extra important for web development where you might store some things most efficiently in a database, others in a \"bucket of files\" and other things on someone elses server intirely. It's all about storing and moving around information. *(you could call it Information Technology...)* Many of the main recepies to acheive this are very similar on the programmer side between programing languages and we will (quickly) go through the main ones in the coming lessons. Move on to [Next Notebook →](01_basics.ipynb)\n"
   ]
  },
  {
   "cell_type": "code",
   "execution_count": null,
   "id": "3bd5555d-a558-4fde-84ba-c82db869a24d",
   "metadata": {},
   "outputs": [],
   "source": []
  }
 ],
 "metadata": {
  "kernelspec": {
   "display_name": "Python 3 (ipykernel)",
   "language": "python",
   "name": "python3"
  },
  "language_info": {
   "codemirror_mode": {
    "name": "ipython",
    "version": 3
   },
   "file_extension": ".py",
   "mimetype": "text/x-python",
   "name": "python",
   "nbconvert_exporter": "python",
   "pygments_lexer": "ipython3",
   "version": "3.12.3"
  }
 },
 "nbformat": 4,
 "nbformat_minor": 5
}
